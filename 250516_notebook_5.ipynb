{
  "cells": [
    {
      "cell_type": "markdown",
      "metadata": {
        "id": "view-in-github",
        "colab_type": "text"
      },
      "source": [
        "<a href=\"https://colab.research.google.com/github/ohki-yu0225/toukei_1B_5/blob/main/250516_notebook_5.ipynb\" target=\"_parent\"><img src=\"https://colab.research.google.com/assets/colab-badge.svg\" alt=\"Open In Colab\"/></a>"
      ]
    },
    {
      "cell_type": "markdown",
      "id": "e9a485d9",
      "metadata": {
        "id": "e9a485d9"
      },
      "source": [
        "# 統計学実習 IB 第 5 回\n",
        "\n",
        "担当：大木 有<br>\n",
        "日時：2025 年 5 月 16 日（金）\n",
        "\n",
        "### 内容\n",
        "\n",
        "- 広がりの尺度\n",
        "\n",
        "### データ\n",
        "\n",
        "- 解析対象：世界のサッカー選手のデータ (2022/2023 シーズン)\n",
        "- 出典：EA Sports FC 24 complete player dataset (https://www.kaggle.com/datasets/stefanoleone992/ea-sports-fc-24-complete-player-dataset?select=male_players.csv)\n"
      ]
    },
    {
      "cell_type": "markdown",
      "id": "97727fe1",
      "metadata": {
        "id": "97727fe1"
      },
      "source": [
        "# Statistics Practice IB 5th\n",
        "\n",
        "Contact: Yu Ohki<br> Date: May 16, 2025\n",
        "Date: Friday, May 16, 2025\n",
        "\n",
        "### Contents\n",
        "\n",
        "- Measures of dispersion\n",
        "\n",
        "### Data\n",
        "\n",
        "- Data of world football players (2022/2023 season)\n",
        "- Source: EA Sports FC 24 complete player dataset (https://www.kaggle.com/datasets/stefanoleone992/ea-sports-fc-24-complete-player-dataset? select=male_players.csv)"
      ]
    },
    {
      "cell_type": "markdown",
      "id": "b5f1a7de",
      "metadata": {
        "id": "b5f1a7de"
      },
      "source": [
        "## データ分析の準備\n"
      ]
    },
    {
      "cell_type": "markdown",
      "id": "b7ed31f8",
      "metadata": {
        "id": "b7ed31f8"
      },
      "source": [
        "## Preparation of data analysis\n"
      ]
    },
    {
      "cell_type": "code",
      "execution_count": null,
      "id": "69f8bcfd",
      "metadata": {
        "id": "69f8bcfd"
      },
      "outputs": [],
      "source": [
        "!pip install japanize-matplotlib\n",
        "import pandas as pd\n",
        "import numpy as np\n",
        "import matplotlib.pyplot as plt\n",
        "import japanize_matplotlib"
      ]
    },
    {
      "cell_type": "code",
      "execution_count": null,
      "id": "97bb0f37",
      "metadata": {
        "id": "97bb0f37"
      },
      "outputs": [],
      "source": [
        "#'sample_5.csv'を読み込んで、変数'data'に代入し、最初の10行を表示する。\n",
        "data = pd.read_csv(\"sample_5.csv\")\n",
        "data.head(10)"
      ]
    },
    {
      "cell_type": "markdown",
      "id": "3a23574b",
      "metadata": {
        "id": "3a23574b"
      },
      "source": [
        "Name: 名前 <br>\n",
        "Value: 市場価値（ユーロ[EUR]）<br>\n",
        "Wage: 週給（ユーロ[EUR/Week]）<br>\n",
        "Age: 年齢<br>\n",
        "Height: 身長(cm)<br>\n",
        "Weight: 体重(kg)<br>\n",
        "Club: 所属クラブ<br>\n",
        "League: 所属リーグ<br>\n",
        "Nationality: 国籍<br>\n",
        "Value_JPY: 市場価値（1億円[100M JPY]）<br>\n",
        "Wage_JPY_y: 年俸（1億円[100M JPY/Year]）\n"
      ]
    },
    {
      "cell_type": "markdown",
      "id": "a2fb9ce3",
      "metadata": {
        "id": "a2fb9ce3"
      },
      "source": [
        "## 広がりの尺度の計算\n",
        "\n",
        "### 四分位範囲・四分位偏差\n",
        "\n",
        "データの分布の広がりを表す尺度として、四分位範囲と四分位偏差や分散と標準偏差が使われる。四分位範囲は、四分位数を`numpy`の`percentile`という関数で求めて、第 3 四分位数から第 1 四分位数を引くことで求める。四分位偏差は四分位範囲の半分である。\n",
        "\n",
        "---\n",
        "\n",
        "```Python\n",
        "np.percentile(a, q) #q=25で第1四分位数、q=50で第2四分位数（中央値）、q=75で第3四分位数を計算\n",
        "```\n",
        "\n",
        "---\n"
      ]
    },
    {
      "cell_type": "markdown",
      "id": "b6abb732",
      "metadata": {
        "id": "b6abb732"
      },
      "source": [
        "## Calculate measures of dispersion\n",
        "\n",
        "### Quartile Range and Quartile Deviation\n",
        "\n",
        "Quartile range and quartile deviation or variance and standard deviation are used as measures of the spread of the distribution of data. The quartile range is obtained by subtracting the first quartile from the third quartile using the `percentile` function of `numpy`. The quartile deviation is half of the quartile range.\n",
        "\n",
        "---\n",
        "\n",
        "```Python\n",
        "np.percentile(a, q) #first quartile for q=25, the second quartile (median) for q=50, and the third quartile for q=75\n",
        "```\n",
        "\n",
        "---"
      ]
    },
    {
      "cell_type": "code",
      "execution_count": null,
      "id": "75201720",
      "metadata": {
        "id": "75201720"
      },
      "outputs": [],
      "source": [
        "# 身長の四分位数を求める。\n",
        "# Calculate the quartiles of height.\n",
        "height = np.array(data[\"Height\"])\n",
        "h_q1 = np.percentile(height, 25)\n",
        "h_q2 = np.percentile(height, 50)\n",
        "h_q3 = np.percentile(height, 75)\n",
        "print(f\"身長の第1四分位数(1st quartile)：{h_q1}cm\")\n",
        "print(f\"身長の第2四分位数(2nd quartile)：{h_q2}cm\")\n",
        "print(f\"身長の第3四分位数(3rd quartile)：{h_q3}cm\")"
      ]
    },
    {
      "cell_type": "code",
      "execution_count": null,
      "id": "9db37e69",
      "metadata": {
        "id": "9db37e69"
      },
      "outputs": [],
      "source": [
        "# 身長の四分位範囲と四分位偏差を求める。\n",
        "# Calculate the quartile range and quartile deviation for height.\n",
        "h_iqr = h_q3 - h_q1\n",
        "h_iqd = h_iqr / 2\n",
        "print(f\"身長の四分位範囲(Quartile range)：{h_iqr}cm\")\n",
        "print(f\"身長の四分位偏差(Quartile deviation)：{h_iqd}cm\")"
      ]
    },
    {
      "cell_type": "code",
      "execution_count": null,
      "id": "3f8a4a0e",
      "metadata": {
        "id": "3f8a4a0e"
      },
      "outputs": [],
      "source": [
        "# 練習1 体重の四分位数を求める。\n",
        "# Calculate the quartiles of weight.\n",
        "\n",
        "print(f\"体重の第1四分位数(1st quartile)：{...}cm\")\n",
        "print(f\"体重の第2四分位数(2nd quartile)：{...}cm\")\n",
        "print(f\"体重の第3四分位数(3rd quartile)：{...}cm\")"
      ]
    },
    {
      "cell_type": "code",
      "execution_count": null,
      "id": "62cd15d7",
      "metadata": {
        "id": "62cd15d7"
      },
      "outputs": [],
      "source": [
        "# 練習2 体重の四分位範囲と四分位偏差を求めてください。\n",
        "# Exercise 2: Calculate the quartile range and quartile deviation for weight.\n",
        "\n",
        "print(f\"体重の四分位範囲(Quartile range)：{...}kg\")\n",
        "print(f\"体重の四分位偏差(Quartile deviation)：{...}kg\")"
      ]
    },
    {
      "cell_type": "markdown",
      "id": "012bc188",
      "metadata": {
        "id": "012bc188"
      },
      "source": [
        "## 箱ひげ図\n",
        "\n",
        "四分位偏差は箱ひげ図を用いて図示する。箱ひげ図の図示は`matplotlib.pyplot`の`boxplot`の関数を用いる。\n",
        "\n",
        "---\n",
        "\n",
        "```Python\n",
        "plt.boxplot(a)\n",
        "```\n",
        "\n",
        "---\n"
      ]
    },
    {
      "cell_type": "markdown",
      "id": "e7ca1cab",
      "metadata": {
        "id": "e7ca1cab"
      },
      "source": [
        "## Box plots\n",
        "\n",
        "Quartile deviations are plotted using box plots. Box plots are plotted using the `boxplot` function of `matplotlib.pyplot`.\n",
        "\n",
        "---\n",
        "\n",
        "```Python\n",
        "plt.boxplot(a)\n",
        "```\n",
        "\n",
        "---"
      ]
    },
    {
      "cell_type": "code",
      "execution_count": null,
      "id": "2fc33e93",
      "metadata": {
        "id": "2fc33e93"
      },
      "outputs": [],
      "source": [
        "# 身長の箱ひげ図を図示する。\n",
        "# Illustrate the box plot of height.\n",
        "plt.boxplot(height)\n",
        "plt.title(\"身長の箱ひげ図\")\n",
        "plt.xlabel(\"\")\n",
        "plt.ylabel(\"身長[cm]\")\n",
        "plt.legend()"
      ]
    },
    {
      "cell_type": "code",
      "execution_count": null,
      "id": "3e16dd08",
      "metadata": {
        "id": "3e16dd08"
      },
      "outputs": [],
      "source": [
        "# 練習3 体重の箱ひげ図を図示してください。\n",
        "# Exercise 3: Illustrate the box plot of weight.\n"
      ]
    },
    {
      "cell_type": "markdown",
      "id": "c57e87b8",
      "metadata": {
        "id": "c57e87b8"
      },
      "source": [
        "### 分散と標準偏差\n",
        "\n",
        "各データの平均値からのばらつき（偏差）でデータの広がりを表現することもある。代表的なものとして分散と標準偏差がある。分散には母分散と標本分散があるが、ここでは標本分散を計算する。分散は`numpy`の`var`関数で計算する。標準偏差は分散の平方根であり、`numpy`の`std`関数で計算できる。\n",
        "\n",
        "---\n",
        "\n",
        "```Python\n",
        "np.var(a)\n",
        "```\n",
        "\n",
        "---\n"
      ]
    },
    {
      "cell_type": "markdown",
      "id": "4ccbfeee",
      "metadata": {
        "id": "4ccbfeee"
      },
      "source": [
        "### Variance and Standard Deviation\n",
        "\n",
        "The spread of data can also be expressed in terms of the variation (deviation) from the mean of each of the data. Typical examples are variance and standard deviation. Variance has two types: population variance and sample variance, and sample variance is calculated in this class. Variance is calculated with the `var` function of `numpy`. The standard deviation is the square root of the variance and can be calculated with the `std` function of `numpy`.\n",
        "\n",
        "---\n",
        "\n",
        "```Python\n",
        "np.var(a)\n",
        "```\n",
        "\n",
        "---"
      ]
    },
    {
      "cell_type": "code",
      "execution_count": null,
      "id": "295fbd15",
      "metadata": {
        "id": "295fbd15"
      },
      "outputs": [],
      "source": [
        "# 身長の平均値を計算する。\n",
        "# Calculate the mean of height.\n",
        "height = np.array(data[\"Height\"])\n",
        "h_mean = np.mean(height)\n",
        "print(f\"身長の平均値：{h_mean}cm\")"
      ]
    },
    {
      "cell_type": "code",
      "execution_count": null,
      "id": "f6abe4eb",
      "metadata": {
        "id": "f6abe4eb"
      },
      "outputs": [],
      "source": [
        "# 練習4 体重の平均値を計算する。\n",
        "# Exercise 4 Calculate the mean of weight.\n",
        "\n",
        "print(f\"体重の平均値：{...}kg\")"
      ]
    },
    {
      "cell_type": "code",
      "execution_count": null,
      "id": "daf874bb",
      "metadata": {
        "id": "daf874bb"
      },
      "outputs": [],
      "source": [
        "# 身長の分散と標準偏差を求める。\n",
        "# Calculate the variance and standard deviation for height.\n",
        "h_var = np.var(height)\n",
        "h_std = np.std(height)\n",
        "print(f\"身長の分散：{h_var}cm^2\")\n",
        "print(f\"身長の標準偏差：{h_std}cm\")"
      ]
    },
    {
      "cell_type": "code",
      "execution_count": null,
      "id": "43fc8e6f",
      "metadata": {
        "id": "43fc8e6f"
      },
      "outputs": [],
      "source": [
        "# 練習5 体重の分散と標準偏差を求める。\n",
        "# Exercise 5 Calculate the variance and standard deviation for weight.\n",
        "\n",
        "print(f\"体重の分散：{...}kg^2\")\n",
        "print(f\"体重の標準偏差：{...}kg\")"
      ]
    },
    {
      "cell_type": "code",
      "execution_count": null,
      "id": "97899144",
      "metadata": {
        "id": "97899144"
      },
      "outputs": [],
      "source": [
        "# 身長のヒストグラムを作成し、平均値と平均値+-標準偏差、平均値+-2*標準偏差を図示する。\n",
        "# Create a histogram of height and illustrate the mean value, mean +- standard deviation, and mean +- 2 * standard deviation.\n",
        "plt.hist(height, bins=15)\n",
        "plt.title(\"身長のヒストグラム\")\n",
        "plt.xlabel(\"身長[cm]\")\n",
        "plt.ylabel(\"度数\")\n",
        "\n",
        "# 平均値を図示(mean)\n",
        "plt.axvline(np.mean(height), color=\"r\", label=\"平均値\")\n",
        "\n",
        "# 平均値+-標準偏差を図示(mean +- standard deviation)\n",
        "plt.axvline(np.mean(height) + h_std, color=\"b\", ls=\"--\", label=\"平均値$\\pm$標準偏差\")\n",
        "plt.axvline(np.mean(height) - h_std, color=\"b\", ls=\"--\")\n",
        "\n",
        "# 平均値+-2*標準偏差を図示(mean +- 2 * standard deviation)\n",
        "plt.axvline(np.mean(height) + 2 * h_std, color=\"m\", ls=\"--\", label=\"平均値$\\pm$2標準偏差\")\n",
        "plt.axvline(np.mean(height) - 2 * h_std, color=\"m\", ls=\"--\")\n",
        "plt.legend()"
      ]
    },
    {
      "cell_type": "code",
      "execution_count": null,
      "id": "6272d32a",
      "metadata": {
        "id": "6272d32a"
      },
      "outputs": [],
      "source": [
        "# 練習6 体重のヒストグラムを作成し、平均値と平均値+標準偏差、平均値-標準偏差を図示する。\n",
        "# Exercise 6 Create a histogram of weight and illustrate the mean value, mean +- standard deviation, and mean +- 2 * standard deviation.\n"
      ]
    },
    {
      "cell_type": "markdown",
      "id": "377f9736",
      "metadata": {
        "id": "377f9736"
      },
      "source": [
        "### 標準化\n",
        "\n",
        "性質の異なる変数の分布を比較するときに、分布の平均値を0、分散および標準偏差を1にする標準化が行われる。標準化は次の式で行われる。標準化された値をZ-scoreとも呼ぶ。\n",
        "\n",
        "$（標準化された値）=\\frac{（元データの値）-（平均値）}{（標準偏差）}$"
      ]
    },
    {
      "cell_type": "markdown",
      "id": "7e992568",
      "metadata": {
        "id": "7e992568"
      },
      "source": [
        "### Standardization\n",
        "\n",
        "When comparing distributions of variables of different nature, standardization is performed to set the mean of the distributions to 0 and the variance and standard deviation to 1. Standardization is performed with the following equation.The standardized value is also called Z-score.\n",
        "\n",
        "$(\\text{Standardized value})=\\frac{(\\text{Original value})-(\\text{Mean})}{(\\text{Standard deviation})}$"
      ]
    },
    {
      "cell_type": "code",
      "execution_count": null,
      "id": "e1d04042",
      "metadata": {
        "id": "e1d04042"
      },
      "outputs": [],
      "source": [
        "# 身長を平均値を0、分散・標準偏差を1に標準化する。\n",
        "# Standardize height to 0 for mean and 1 for variance/standard deviation.\n",
        "height_s = (height - h_mean) / h_std\n",
        "h_mean_s = np.mean(height_s)\n",
        "h_var_s = np.var(height_s)\n",
        "h_std_s = np.std(height_s)\n",
        "print(f\"標準化された身長の平均値：{h_mean_s}\")\n",
        "print(f\"標準化された身長の分散：{h_var_s}\")\n",
        "print(f\"標準化された身長の標準偏差：{h_std_s}\")"
      ]
    },
    {
      "cell_type": "code",
      "execution_count": null,
      "id": "f7c01067",
      "metadata": {
        "id": "f7c01067"
      },
      "outputs": [],
      "source": [
        "# 練習7 体重の平均値を0、分散・標準偏差を1に標準化する。\n",
        "# Exercise 7 Standardize weight to 0 for mean and 1 for variance/standard deviation.\n",
        "\n",
        "print(f\"標準化された体重の平均値：{...}\")\n",
        "print(f\"標準化された体重の分散：{...}\")\n",
        "print(f\"標準化された体重の標準偏差：{...}\")"
      ]
    },
    {
      "cell_type": "code",
      "execution_count": null,
      "id": "611bfd86",
      "metadata": {
        "id": "611bfd86"
      },
      "outputs": [],
      "source": [
        "# 標準化された身長と体重のヒストグラムを図示する。\n",
        "# Illustrate a histogram of standardized height and weight.\n",
        "plt.hist(height_s, bins=15, label=\"身長/Height\", alpha=0.5)\n",
        "plt.hist(weight_s, bins=15, label=\"体重/Weight\", facecolor=\"r\", alpha=0.5)\n",
        "\n",
        "plt.axvline(0, color=\"r\")\n",
        "# 平均値+-標準偏差を図示\n",
        "plt.axvline(1, color=\"b\", ls=\"--\")\n",
        "plt.axvline(-1, color=\"b\", ls=\"--\")\n",
        "# 平均値+-2*標準偏差を図示\n",
        "plt.axvline(2, color=\"m\", ls=\"--\")\n",
        "plt.axvline(-2, color=\"m\", ls=\"--\")\n",
        "\n",
        "# タイトルと軸ラベルの追加\n",
        "plt.title(\"標準化された身長と体重のヒストグラム\")\n",
        "plt.xlabel(\"Z-score\")\n",
        "plt.ylabel(\"度数\")\n",
        "plt.legend()"
      ]
    },
    {
      "cell_type": "code",
      "execution_count": null,
      "id": "7da681bb",
      "metadata": {
        "id": "7da681bb"
      },
      "outputs": [],
      "source": [
        "# 標準化された身長が+-1および+-2の範囲に何％含まれるかを調べる。\n",
        "# Calculate what percentage of standardized heights are within the +-1 and +-2 ranges.\n",
        "num_h_1s = len(height_s[(height_s > -1) & (height_s < 1)])\n",
        "num_h_2s = len(height_s[(height_s > -2) & (height_s < 2)])\n",
        "num_h = len(height_s)\n",
        "print(f\"標準偏差の範囲のデータの割合：{num_h_1s/num_h*100}％\")\n",
        "print(f\"2*標準偏差の範囲のデータの割合：{num_h_2s/num_h*100}％\")"
      ]
    },
    {
      "cell_type": "code",
      "execution_count": null,
      "id": "3119cb04",
      "metadata": {
        "id": "3119cb04"
      },
      "outputs": [],
      "source": [
        "# 標準化された体重が+-1および+-2の範囲に何％含まれるかを調べる。\n",
        "# Calculate what percentage of standardized weights are within the +-1 and +-2 ranges.\n",
        "num_w_1s = len(weight_s[(weight_s > -1) & (weight_s < 1)])\n",
        "num_w_2s = len(weight_s[(weight_s > -2) & (weight_s < 2)])\n",
        "num_w = len(weight_s)\n",
        "print(f\"標準偏差の範囲のデータの割合：{num_w_1s/num_w*100}％\")\n",
        "print(f\"2*標準偏差の範囲のデータの割合：{num_w_2s/num_w*100}％\")"
      ]
    },
    {
      "cell_type": "markdown",
      "id": "e375e3b8",
      "metadata": {
        "id": "e375e3b8"
      },
      "source": [
        "（参考）チェビシェフの定理：分布の広がりとデータ数の関係について、どのような分布に対しても一般的に次の法則が成り立つ。\n",
        "- 平均値から2*標準偏差の範囲に少なくとも75%のデータが含まれる。\n",
        "- 平均値から3*標準偏差の範囲に少なくとも88.89%のデータが含まれる。"
      ]
    },
    {
      "cell_type": "markdown",
      "id": "d8e04731",
      "metadata": {
        "id": "d8e04731"
      },
      "source": [
        "(Reference) Chebyshev's theorem: The following law generally holds for any distribution regarding the relationship between the spread of the distribution and the number of data.\n",
        "- At least 75% of the data are contained within 2* standard deviations from the mean.\n",
        "- At least 88.89% of the data are contained within 3* standard deviations from the mean."
      ]
    }
  ],
  "metadata": {
    "kernelspec": {
      "display_name": "Python 3 (ipykernel)",
      "language": "python",
      "name": "python3"
    },
    "language_info": {
      "codemirror_mode": {
        "name": "ipython",
        "version": 3
      },
      "file_extension": ".py",
      "mimetype": "text/x-python",
      "name": "python",
      "nbconvert_exporter": "python",
      "pygments_lexer": "ipython3",
      "version": "3.10.14"
    },
    "colab": {
      "provenance": [],
      "include_colab_link": true
    }
  },
  "nbformat": 4,
  "nbformat_minor": 5
}